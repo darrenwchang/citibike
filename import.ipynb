{
 "cells": [
  {
   "cell_type": "code",
   "execution_count": 1,
   "metadata": {},
   "outputs": [
    {
     "name": "stdout",
     "output_type": "stream",
     "text": [
      "processing https://s3.amazonaws.com/tripdata/JC-202201-citibike-tripdata.csv.zip...\n",
      "processing https://s3.amazonaws.com/tripdata/JC-202202-citibike-tripdata.csv.zip...\n",
      "processing https://s3.amazonaws.com/tripdata/JC-202203-citibike-tripdata.csv.zip...\n",
      "processing https://s3.amazonaws.com/tripdata/JC-202204-citibike-tripdata.csv.zip...\n",
      "processing https://s3.amazonaws.com/tripdata/JC-202205-citibike-tripdata.csv.zip...\n",
      "processing https://s3.amazonaws.com/tripdata/JC-202206-citibike-tripdata.csv.zip...\n",
      "processing https://s3.amazonaws.com/tripdata/JC-202207-citibike-tripdata.csv.zip...\n"
     ]
    },
    {
     "ename": "UndefVarError",
     "evalue": "UndefVarError: `url` not defined",
     "output_type": "error",
     "traceback": [
      "UndefVarError: `url` not defined\n",
      "\n",
      "Stacktrace:\n",
      " [1] top-level scope\n",
      "   @ ~/Documents/citibike/jl_notebook_cell_df34fa98e69747e1a8f8a730347b8e2f_W0sZmlsZQ==.jl:21"
     ]
    }
   ],
   "source": [
    "using Downloads, ZipFile, DataFrames;\n",
    "import CSV;\n",
    "\n",
    "df = DataFrame()\n",
    "\n",
    "for yr in range(2022, stop=2024)\n",
    "    for mon in range(1, stop=12)\n",
    "        month = lpad(mon, 2, \"0\")\n",
    "        year = string(yr)\n",
    "        try\n",
    "            url = \"https://s3.amazonaws.com/tripdata/JC-$year$month-citibike-tripdata.csv.zip\"\n",
    "            println(\"processing $url...\")\n",
    "\n",
    "            io = IOBuffer()\n",
    "            Downloads.download(url, io)\n",
    "\n",
    "            r = ZipFile.Reader(io)\n",
    "            df = vcat(df, DataFrame(CSV.Rows(r.files[1])))\n",
    "\n",
    "        catch\n",
    "            println(\"error reading $url...\")\n",
    "        end\n",
    "    end\n",
    "end\n",
    "\n"
   ]
  },
  {
   "cell_type": "code",
   "execution_count": 2,
   "metadata": {},
   "outputs": [
    {
     "data": {
      "text/html": [
       "<div><div style = \"float: left;\"><span>10×13 DataFrame</span></div><div style = \"clear: both;\"></div></div><div class = \"data-frame\" style = \"overflow-x: scroll;\"><table class = \"data-frame\" style = \"margin-bottom: 6px;\"><thead><tr class = \"header\"><th class = \"rowNumber\" style = \"font-weight: bold; text-align: right;\">Row</th><th style = \"text-align: left;\">ride_id</th><th style = \"text-align: left;\">rideable_type</th><th style = \"text-align: left;\">started_at</th><th style = \"text-align: left;\">ended_at</th><th style = \"text-align: left;\">start_station_name</th><th style = \"text-align: left;\">start_station_id</th><th style = \"text-align: left;\">end_station_name</th><th style = \"text-align: left;\">end_station_id</th><th style = \"text-align: left;\">start_lat</th><th style = \"text-align: left;\">start_lng</th><th style = \"text-align: left;\">end_lat</th><th style = \"text-align: left;\">end_lng</th><th style = \"text-align: left;\">member_casual</th></tr><tr class = \"subheader headerLastRow\"><th class = \"rowNumber\" style = \"font-weight: bold; text-align: right;\"></th><th title = \"Union{Missing, WeakRefStrings.PosLenString}\" style = \"text-align: left;\">PosLenSt…?</th><th title = \"Union{Missing, WeakRefStrings.PosLenString}\" style = \"text-align: left;\">PosLenSt…?</th><th title = \"Union{Missing, WeakRefStrings.PosLenString}\" style = \"text-align: left;\">PosLenSt…?</th><th title = \"Union{Missing, WeakRefStrings.PosLenString}\" style = \"text-align: left;\">PosLenSt…?</th><th title = \"Union{Missing, WeakRefStrings.PosLenString}\" style = \"text-align: left;\">PosLenSt…?</th><th title = \"Union{Missing, WeakRefStrings.PosLenString}\" style = \"text-align: left;\">PosLenSt…?</th><th title = \"Union{Missing, WeakRefStrings.PosLenString}\" style = \"text-align: left;\">PosLenSt…?</th><th title = \"Union{Missing, WeakRefStrings.PosLenString}\" style = \"text-align: left;\">PosLenSt…?</th><th title = \"Union{Missing, WeakRefStrings.PosLenString}\" style = \"text-align: left;\">PosLenSt…?</th><th title = \"Union{Missing, WeakRefStrings.PosLenString}\" style = \"text-align: left;\">PosLenSt…?</th><th title = \"Union{Missing, WeakRefStrings.PosLenString}\" style = \"text-align: left;\">PosLenSt…?</th><th title = \"Union{Missing, WeakRefStrings.PosLenString}\" style = \"text-align: left;\">PosLenSt…?</th><th title = \"Union{Missing, WeakRefStrings.PosLenString}\" style = \"text-align: left;\">PosLenSt…?</th></tr></thead><tbody><tr><td class = \"rowNumber\" style = \"font-weight: bold; text-align: right;\">1</td><td style = \"text-align: left;\">CA5837152804D4B5</td><td style = \"text-align: left;\">electric_bike</td><td style = \"text-align: left;\">2022-01-26 18:50:39</td><td style = \"text-align: left;\">2022-01-26 18:51:53</td><td style = \"text-align: left;\">12 St &amp; Sinatra Dr N</td><td style = \"text-align: left;\">HB201</td><td style = \"text-align: left;\">12 St &amp; Sinatra Dr N</td><td style = \"text-align: left;\">HB201</td><td style = \"text-align: left;\">40.750604142368964</td><td style = \"text-align: left;\">-74.02402013540268</td><td style = \"text-align: left;\">40.750604142368964</td><td style = \"text-align: left;\">-74.02402013540268</td><td style = \"text-align: left;\">member</td></tr><tr><td class = \"rowNumber\" style = \"font-weight: bold; text-align: right;\">2</td><td style = \"text-align: left;\">BA06A5E45B6601D2</td><td style = \"text-align: left;\">classic_bike</td><td style = \"text-align: left;\">2022-01-28 13:14:07</td><td style = \"text-align: left;\">2022-01-28 13:20:23</td><td style = \"text-align: left;\">Essex Light Rail</td><td style = \"text-align: left;\">JC038</td><td style = \"text-align: left;\">Essex Light Rail</td><td style = \"text-align: left;\">JC038</td><td style = \"text-align: left;\">40.7127742</td><td style = \"text-align: left;\">-74.0364857</td><td style = \"text-align: left;\">40.7127742</td><td style = \"text-align: left;\">-74.0364857</td><td style = \"text-align: left;\">member</td></tr><tr><td class = \"rowNumber\" style = \"font-weight: bold; text-align: right;\">3</td><td style = \"text-align: left;\">7B6827D7B9508D93</td><td style = \"text-align: left;\">classic_bike</td><td style = \"text-align: left;\">2022-01-10 19:55:13</td><td style = \"text-align: left;\">2022-01-10 20:00:37</td><td style = \"text-align: left;\">Essex Light Rail</td><td style = \"text-align: left;\">JC038</td><td style = \"text-align: left;\">Essex Light Rail</td><td style = \"text-align: left;\">JC038</td><td style = \"text-align: left;\">40.7127742</td><td style = \"text-align: left;\">-74.0364857</td><td style = \"text-align: left;\">40.7127742</td><td style = \"text-align: left;\">-74.0364857</td><td style = \"text-align: left;\">member</td></tr><tr><td class = \"rowNumber\" style = \"font-weight: bold; text-align: right;\">4</td><td style = \"text-align: left;\">6E5864EA6FCEC90D</td><td style = \"text-align: left;\">electric_bike</td><td style = \"text-align: left;\">2022-01-26 07:54:57</td><td style = \"text-align: left;\">2022-01-26 07:55:22</td><td style = \"text-align: left;\">12 St &amp; Sinatra Dr N</td><td style = \"text-align: left;\">HB201</td><td style = \"text-align: left;\">12 St &amp; Sinatra Dr N</td><td style = \"text-align: left;\">HB201</td><td style = \"text-align: left;\">40.750604142368964</td><td style = \"text-align: left;\">-74.02402013540268</td><td style = \"text-align: left;\">40.750604142368964</td><td style = \"text-align: left;\">-74.02402013540268</td><td style = \"text-align: left;\">member</td></tr><tr><td class = \"rowNumber\" style = \"font-weight: bold; text-align: right;\">5</td><td style = \"text-align: left;\">E24954255BBDE32D</td><td style = \"text-align: left;\">electric_bike</td><td style = \"text-align: left;\">2022-01-13 18:44:46</td><td style = \"text-align: left;\">2022-01-13 18:45:43</td><td style = \"text-align: left;\">12 St &amp; Sinatra Dr N</td><td style = \"text-align: left;\">HB201</td><td style = \"text-align: left;\">12 St &amp; Sinatra Dr N</td><td style = \"text-align: left;\">HB201</td><td style = \"text-align: left;\">40.750604142368964</td><td style = \"text-align: left;\">-74.02402013540268</td><td style = \"text-align: left;\">40.750604142368964</td><td style = \"text-align: left;\">-74.02402013540268</td><td style = \"text-align: left;\">member</td></tr><tr><td class = \"rowNumber\" style = \"font-weight: bold; text-align: right;\">6</td><td style = \"text-align: left;\">5E7C60D8C322436D</td><td style = \"text-align: left;\">classic_bike</td><td style = \"text-align: left;\">2022-01-13 18:46:20</td><td style = \"text-align: left;\">2022-01-13 19:17:32</td><td style = \"text-align: left;\">12 St &amp; Sinatra Dr N</td><td style = \"text-align: left;\">HB201</td><td style = \"text-align: left;\">12 St &amp; Sinatra Dr N</td><td style = \"text-align: left;\">HB201</td><td style = \"text-align: left;\">40.750604142368964</td><td style = \"text-align: left;\">-74.02402013540268</td><td style = \"text-align: left;\">40.750604142368964</td><td style = \"text-align: left;\">-74.02402013540268</td><td style = \"text-align: left;\">member</td></tr><tr><td class = \"rowNumber\" style = \"font-weight: bold; text-align: right;\">7</td><td style = \"text-align: left;\">20F859440531F682</td><td style = \"text-align: left;\">classic_bike</td><td style = \"text-align: left;\">2022-01-06 13:25:34</td><td style = \"text-align: left;\">2022-01-06 14:22:48</td><td style = \"text-align: left;\">12 St &amp; Sinatra Dr N</td><td style = \"text-align: left;\">HB201</td><td style = \"text-align: left;\">12 St &amp; Sinatra Dr N</td><td style = \"text-align: left;\">HB201</td><td style = \"text-align: left;\">40.750604142368964</td><td style = \"text-align: left;\">-74.02402013540268</td><td style = \"text-align: left;\">40.750604142368964</td><td style = \"text-align: left;\">-74.02402013540268</td><td style = \"text-align: left;\">casual</td></tr><tr><td class = \"rowNumber\" style = \"font-weight: bold; text-align: right;\">8</td><td style = \"text-align: left;\">1D3BB04281B26554</td><td style = \"text-align: left;\">classic_bike</td><td style = \"text-align: left;\">2022-01-16 16:41:23</td><td style = \"text-align: left;\">2022-01-16 17:56:50</td><td style = \"text-align: left;\">12 St &amp; Sinatra Dr N</td><td style = \"text-align: left;\">HB201</td><td style = \"text-align: left;\">12 St &amp; Sinatra Dr N</td><td style = \"text-align: left;\">HB201</td><td style = \"text-align: left;\">40.750604142368964</td><td style = \"text-align: left;\">-74.02402013540268</td><td style = \"text-align: left;\">40.750604142368964</td><td style = \"text-align: left;\">-74.02402013540268</td><td style = \"text-align: left;\">member</td></tr><tr><td class = \"rowNumber\" style = \"font-weight: bold; text-align: right;\">9</td><td style = \"text-align: left;\">B66A3E56C3986AD1</td><td style = \"text-align: left;\">electric_bike</td><td style = \"text-align: left;\">2022-01-07 16:31:32</td><td style = \"text-align: left;\">2022-01-07 16:46:43</td><td style = \"text-align: left;\">12 St &amp; Sinatra Dr N</td><td style = \"text-align: left;\">HB201</td><td style = \"text-align: left;\">12 St &amp; Sinatra Dr N</td><td style = \"text-align: left;\">HB201</td><td style = \"text-align: left;\">40.750604142368964</td><td style = \"text-align: left;\">-74.02402013540268</td><td style = \"text-align: left;\">40.750604142368964</td><td style = \"text-align: left;\">-74.02402013540268</td><td style = \"text-align: left;\">member</td></tr><tr><td class = \"rowNumber\" style = \"font-weight: bold; text-align: right;\">10</td><td style = \"text-align: left;\">1DC82BF92F17409F</td><td style = \"text-align: left;\">electric_bike</td><td style = \"text-align: left;\">2022-01-17 10:50:23</td><td style = \"text-align: left;\">2022-01-17 11:05:57</td><td style = \"text-align: left;\">12 St &amp; Sinatra Dr N</td><td style = \"text-align: left;\">HB201</td><td style = \"text-align: left;\">12 St &amp; Sinatra Dr N</td><td style = \"text-align: left;\">HB201</td><td style = \"text-align: left;\">40.750604142368964</td><td style = \"text-align: left;\">-74.02402013540268</td><td style = \"text-align: left;\">40.750604142368964</td><td style = \"text-align: left;\">-74.02402013540268</td><td style = \"text-align: left;\">member</td></tr></tbody></table></div>"
      ],
      "text/latex": [
       "\\begin{tabular}{r|cccccc}\n",
       "\t& ride\\_id & rideable\\_type & started\\_at & ended\\_at & start\\_station\\_name & \\\\\n",
       "\t\\hline\n",
       "\t& PosLenSt…? & PosLenSt…? & PosLenSt…? & PosLenSt…? & PosLenSt…? & \\\\\n",
       "\t\\hline\n",
       "\t1 & CA5837152804D4B5 & electric\\_bike & 2022-01-26 18:50:39 & 2022-01-26 18:51:53 & 12 St \\& Sinatra Dr N & $\\dots$ \\\\\n",
       "\t2 & BA06A5E45B6601D2 & classic\\_bike & 2022-01-28 13:14:07 & 2022-01-28 13:20:23 & Essex Light Rail & $\\dots$ \\\\\n",
       "\t3 & 7B6827D7B9508D93 & classic\\_bike & 2022-01-10 19:55:13 & 2022-01-10 20:00:37 & Essex Light Rail & $\\dots$ \\\\\n",
       "\t4 & 6E5864EA6FCEC90D & electric\\_bike & 2022-01-26 07:54:57 & 2022-01-26 07:55:22 & 12 St \\& Sinatra Dr N & $\\dots$ \\\\\n",
       "\t5 & E24954255BBDE32D & electric\\_bike & 2022-01-13 18:44:46 & 2022-01-13 18:45:43 & 12 St \\& Sinatra Dr N & $\\dots$ \\\\\n",
       "\t6 & 5E7C60D8C322436D & classic\\_bike & 2022-01-13 18:46:20 & 2022-01-13 19:17:32 & 12 St \\& Sinatra Dr N & $\\dots$ \\\\\n",
       "\t7 & 20F859440531F682 & classic\\_bike & 2022-01-06 13:25:34 & 2022-01-06 14:22:48 & 12 St \\& Sinatra Dr N & $\\dots$ \\\\\n",
       "\t8 & 1D3BB04281B26554 & classic\\_bike & 2022-01-16 16:41:23 & 2022-01-16 17:56:50 & 12 St \\& Sinatra Dr N & $\\dots$ \\\\\n",
       "\t9 & B66A3E56C3986AD1 & electric\\_bike & 2022-01-07 16:31:32 & 2022-01-07 16:46:43 & 12 St \\& Sinatra Dr N & $\\dots$ \\\\\n",
       "\t10 & 1DC82BF92F17409F & electric\\_bike & 2022-01-17 10:50:23 & 2022-01-17 11:05:57 & 12 St \\& Sinatra Dr N & $\\dots$ \\\\\n",
       "\\end{tabular}\n"
      ],
      "text/plain": [
       "\u001b[1m10×13 DataFrame\u001b[0m\n",
       "\u001b[1m Row \u001b[0m│\u001b[1m ride_id          \u001b[0m\u001b[1m rideable_type \u001b[0m\u001b[1m started_at          \u001b[0m\u001b[1m ended_at         \u001b[0m ⋯\n",
       "     │\u001b[90m PosLenSt…?       \u001b[0m\u001b[90m PosLenSt…?    \u001b[0m\u001b[90m PosLenSt…?          \u001b[0m\u001b[90m PosLenSt…?       \u001b[0m ⋯\n",
       "─────┼──────────────────────────────────────────────────────────────────────────\n",
       "   1 │ CA5837152804D4B5  electric_bike  2022-01-26 18:50:39  2022-01-26 18:51: ⋯\n",
       "   2 │ BA06A5E45B6601D2  classic_bike   2022-01-28 13:14:07  2022-01-28 13:20:\n",
       "   3 │ 7B6827D7B9508D93  classic_bike   2022-01-10 19:55:13  2022-01-10 20:00:\n",
       "   4 │ 6E5864EA6FCEC90D  electric_bike  2022-01-26 07:54:57  2022-01-26 07:55:\n",
       "   5 │ E24954255BBDE32D  electric_bike  2022-01-13 18:44:46  2022-01-13 18:45: ⋯\n",
       "   6 │ 5E7C60D8C322436D  classic_bike   2022-01-13 18:46:20  2022-01-13 19:17:\n",
       "   7 │ 20F859440531F682  classic_bike   2022-01-06 13:25:34  2022-01-06 14:22:\n",
       "   8 │ 1D3BB04281B26554  classic_bike   2022-01-16 16:41:23  2022-01-16 17:56:\n",
       "   9 │ B66A3E56C3986AD1  electric_bike  2022-01-07 16:31:32  2022-01-07 16:46: ⋯\n",
       "  10 │ 1DC82BF92F17409F  electric_bike  2022-01-17 10:50:23  2022-01-17 11:05:\n",
       "\u001b[36m                                                              10 columns omitted\u001b[0m"
      ]
     },
     "metadata": {},
     "output_type": "display_data"
    }
   ],
   "source": [
    "first(df, 10)"
   ]
  },
  {
   "cell_type": "code",
   "execution_count": 3,
   "metadata": {},
   "outputs": [
    {
     "data": {
      "text/html": [
       "<div><div style = \"float: left;\"><span>10×13 DataFrame</span></div><div style = \"clear: both;\"></div></div><div class = \"data-frame\" style = \"overflow-x: scroll;\"><table class = \"data-frame\" style = \"margin-bottom: 6px;\"><thead><tr class = \"header\"><th class = \"rowNumber\" style = \"font-weight: bold; text-align: right;\">Row</th><th style = \"text-align: left;\">ride_id</th><th style = \"text-align: left;\">rideable_type</th><th style = \"text-align: left;\">started_at</th><th style = \"text-align: left;\">ended_at</th><th style = \"text-align: left;\">start_station_name</th><th style = \"text-align: left;\">start_station_id</th><th style = \"text-align: left;\">end_station_name</th><th style = \"text-align: left;\">end_station_id</th><th style = \"text-align: left;\">start_lat</th><th style = \"text-align: left;\">start_lng</th><th style = \"text-align: left;\">end_lat</th><th style = \"text-align: left;\">end_lng</th><th style = \"text-align: left;\">member_casual</th></tr><tr class = \"subheader headerLastRow\"><th class = \"rowNumber\" style = \"font-weight: bold; text-align: right;\"></th><th title = \"Union{Missing, WeakRefStrings.PosLenString}\" style = \"text-align: left;\">PosLenSt…?</th><th title = \"Union{Missing, WeakRefStrings.PosLenString}\" style = \"text-align: left;\">PosLenSt…?</th><th title = \"Union{Missing, WeakRefStrings.PosLenString}\" style = \"text-align: left;\">PosLenSt…?</th><th title = \"Union{Missing, WeakRefStrings.PosLenString}\" style = \"text-align: left;\">PosLenSt…?</th><th title = \"Union{Missing, WeakRefStrings.PosLenString}\" style = \"text-align: left;\">PosLenSt…?</th><th title = \"Union{Missing, WeakRefStrings.PosLenString}\" style = \"text-align: left;\">PosLenSt…?</th><th title = \"Union{Missing, WeakRefStrings.PosLenString}\" style = \"text-align: left;\">PosLenSt…?</th><th title = \"Union{Missing, WeakRefStrings.PosLenString}\" style = \"text-align: left;\">PosLenSt…?</th><th title = \"Union{Missing, WeakRefStrings.PosLenString}\" style = \"text-align: left;\">PosLenSt…?</th><th title = \"Union{Missing, WeakRefStrings.PosLenString}\" style = \"text-align: left;\">PosLenSt…?</th><th title = \"Union{Missing, WeakRefStrings.PosLenString}\" style = \"text-align: left;\">PosLenSt…?</th><th title = \"Union{Missing, WeakRefStrings.PosLenString}\" style = \"text-align: left;\">PosLenSt…?</th><th title = \"Union{Missing, WeakRefStrings.PosLenString}\" style = \"text-align: left;\">PosLenSt…?</th></tr></thead><tbody><tr><td class = \"rowNumber\" style = \"font-weight: bold; text-align: right;\">1</td><td style = \"text-align: left;\">AA66C02582622BFB</td><td style = \"text-align: left;\">electric_bike</td><td style = \"text-align: left;\">2022-06-05 08:07:14</td><td style = \"text-align: left;\">2022-06-05 08:19:14</td><td style = \"text-align: left;\">South Waterfront Walkway - Sinatra Dr &amp; 1 St</td><td style = \"text-align: left;\">HB103</td><td style = \"text-align: left;\">11 St &amp; Washington St</td><td style = \"text-align: left;\">HB502</td><td style = \"text-align: left;\">40.73698221818716</td><td style = \"text-align: left;\">-74.02778059244156</td><td style = \"text-align: left;\">40.74998490907138</td><td style = \"text-align: left;\">-74.02715027332306</td><td style = \"text-align: left;\">casual</td></tr><tr><td class = \"rowNumber\" style = \"font-weight: bold; text-align: right;\">2</td><td style = \"text-align: left;\">9DB84934CF8F4F74</td><td style = \"text-align: left;\">classic_bike</td><td style = \"text-align: left;\">2022-06-22 17:21:27</td><td style = \"text-align: left;\">2022-06-22 17:26:39</td><td style = \"text-align: left;\">South Waterfront Walkway - Sinatra Dr &amp; 1 St</td><td style = \"text-align: left;\">HB103</td><td style = \"text-align: left;\">8 St &amp; Washington St</td><td style = \"text-align: left;\">HB603</td><td style = \"text-align: left;\">40.73698221818716</td><td style = \"text-align: left;\">-74.02778059244156</td><td style = \"text-align: left;\">40.745983882915624</td><td style = \"text-align: left;\">-74.02819901704788</td><td style = \"text-align: left;\">member</td></tr><tr><td class = \"rowNumber\" style = \"font-weight: bold; text-align: right;\">3</td><td style = \"text-align: left;\">1BA7193157399DB6</td><td style = \"text-align: left;\">classic_bike</td><td style = \"text-align: left;\">2022-06-26 20:25:49</td><td style = \"text-align: left;\">2022-06-26 20:35:22</td><td style = \"text-align: left;\">South Waterfront Walkway - Sinatra Dr &amp; 1 St</td><td style = \"text-align: left;\">HB103</td><td style = \"text-align: left;\">8 St &amp; Washington St</td><td style = \"text-align: left;\">HB603</td><td style = \"text-align: left;\">40.73698221818716</td><td style = \"text-align: left;\">-74.02778059244156</td><td style = \"text-align: left;\">40.745983882915624</td><td style = \"text-align: left;\">-74.02819901704788</td><td style = \"text-align: left;\">member</td></tr><tr><td class = \"rowNumber\" style = \"font-weight: bold; text-align: right;\">4</td><td style = \"text-align: left;\">B48A9353BE8E24F6</td><td style = \"text-align: left;\">docked_bike</td><td style = \"text-align: left;\">2022-06-26 17:26:23</td><td style = \"text-align: left;\">2022-06-26 17:40:48</td><td style = \"text-align: left;\">South Waterfront Walkway - Sinatra Dr &amp; 1 St</td><td style = \"text-align: left;\">HB103</td><td style = \"text-align: left;\">11 St &amp; Washington St</td><td style = \"text-align: left;\">HB502</td><td style = \"text-align: left;\">40.736982</td><td style = \"text-align: left;\">-74.027781</td><td style = \"text-align: left;\">40.749985</td><td style = \"text-align: left;\">-74.02715</td><td style = \"text-align: left;\">casual</td></tr><tr><td class = \"rowNumber\" style = \"font-weight: bold; text-align: right;\">5</td><td style = \"text-align: left;\">2B8A586D36B8EC65</td><td style = \"text-align: left;\">electric_bike</td><td style = \"text-align: left;\">2022-06-15 20:22:41</td><td style = \"text-align: left;\">2022-06-15 20:43:12</td><td style = \"text-align: left;\">South Waterfront Walkway - Sinatra Dr &amp; 1 St</td><td style = \"text-align: left;\">HB103</td><td style = \"text-align: left;\">Dixon Mills</td><td style = \"text-align: left;\">JC076</td><td style = \"text-align: left;\">40.73698221818716</td><td style = \"text-align: left;\">-74.02778059244156</td><td style = \"text-align: left;\">40.721630142638354</td><td style = \"text-align: left;\">-74.04996782541275</td><td style = \"text-align: left;\">casual</td></tr><tr><td class = \"rowNumber\" style = \"font-weight: bold; text-align: right;\">6</td><td style = \"text-align: left;\">25AD34565A260732</td><td style = \"text-align: left;\">classic_bike</td><td style = \"text-align: left;\">2022-06-17 16:03:36</td><td style = \"text-align: left;\">2022-06-17 16:33:48</td><td style = \"text-align: left;\">South Waterfront Walkway - Sinatra Dr &amp; 1 St</td><td style = \"text-align: left;\">HB103</td><td style = \"text-align: left;\">11 St &amp; Washington St</td><td style = \"text-align: left;\">HB502</td><td style = \"text-align: left;\">40.73698221818716</td><td style = \"text-align: left;\">-74.02778059244156</td><td style = \"text-align: left;\">40.74998490907138</td><td style = \"text-align: left;\">-74.02715027332306</td><td style = \"text-align: left;\">casual</td></tr><tr><td class = \"rowNumber\" style = \"font-weight: bold; text-align: right;\">7</td><td style = \"text-align: left;\">8A4181FCE9439036</td><td style = \"text-align: left;\">classic_bike</td><td style = \"text-align: left;\">2022-06-25 14:14:26</td><td style = \"text-align: left;\">2022-06-25 14:19:40</td><td style = \"text-align: left;\">South Waterfront Walkway - Sinatra Dr &amp; 1 St</td><td style = \"text-align: left;\">HB103</td><td style = \"text-align: left;\">8 St &amp; Washington St</td><td style = \"text-align: left;\">HB603</td><td style = \"text-align: left;\">40.73698221818716</td><td style = \"text-align: left;\">-74.02778059244156</td><td style = \"text-align: left;\">40.745983882915624</td><td style = \"text-align: left;\">-74.02819901704788</td><td style = \"text-align: left;\">member</td></tr><tr><td class = \"rowNumber\" style = \"font-weight: bold; text-align: right;\">8</td><td style = \"text-align: left;\">28C8501BCB596743</td><td style = \"text-align: left;\">electric_bike</td><td style = \"text-align: left;\">2022-06-04 08:57:04</td><td style = \"text-align: left;\">2022-06-04 09:15:33</td><td style = \"text-align: left;\">Jersey &amp; 6th St</td><td style = \"text-align: left;\">JC027</td><td style = \"text-align: left;\">11 St &amp; Washington St</td><td style = \"text-align: left;\">HB502</td><td style = \"text-align: left;\">40.72528910781132</td><td style = \"text-align: left;\">-74.04557168483734</td><td style = \"text-align: left;\">40.74998490907138</td><td style = \"text-align: left;\">-74.02715027332306</td><td style = \"text-align: left;\">casual</td></tr><tr><td class = \"rowNumber\" style = \"font-weight: bold; text-align: right;\">9</td><td style = \"text-align: left;\">D28575BBFF3A0B57</td><td style = \"text-align: left;\">classic_bike</td><td style = \"text-align: left;\">2022-06-17 06:11:05</td><td style = \"text-align: left;\">2022-06-17 06:21:37</td><td style = \"text-align: left;\">South Waterfront Walkway - Sinatra Dr &amp; 1 St</td><td style = \"text-align: left;\">HB103</td><td style = \"text-align: left;\">11 St &amp; Washington St</td><td style = \"text-align: left;\">HB502</td><td style = \"text-align: left;\">40.73698221818716</td><td style = \"text-align: left;\">-74.02778059244156</td><td style = \"text-align: left;\">40.74998490907138</td><td style = \"text-align: left;\">-74.02715027332306</td><td style = \"text-align: left;\">member</td></tr><tr><td class = \"rowNumber\" style = \"font-weight: bold; text-align: right;\">10</td><td style = \"text-align: left;\">A914FEF9390C201C</td><td style = \"text-align: left;\">electric_bike</td><td style = \"text-align: left;\">2022-06-02 18:15:17</td><td style = \"text-align: left;\">2022-06-02 18:20:22</td><td style = \"text-align: left;\">South Waterfront Walkway - Sinatra Dr &amp; 1 St</td><td style = \"text-align: left;\">HB103</td><td style = \"text-align: left;\">11 St &amp; Washington St</td><td style = \"text-align: left;\">HB502</td><td style = \"text-align: left;\">40.73698221818716</td><td style = \"text-align: left;\">-74.02778059244156</td><td style = \"text-align: left;\">40.74998490907138</td><td style = \"text-align: left;\">-74.02715027332306</td><td style = \"text-align: left;\">member</td></tr></tbody></table></div>"
      ],
      "text/latex": [
       "\\begin{tabular}{r|cccccc}\n",
       "\t& ride\\_id & rideable\\_type & started\\_at & ended\\_at & start\\_station\\_name & \\\\\n",
       "\t\\hline\n",
       "\t& PosLenSt…? & PosLenSt…? & PosLenSt…? & PosLenSt…? & PosLenSt…? & \\\\\n",
       "\t\\hline\n",
       "\t1 & AA66C02582622BFB & electric\\_bike & 2022-06-05 08:07:14 & 2022-06-05 08:19:14 & South Waterfront Walkway - Sinatra Dr \\& 1 St & $\\dots$ \\\\\n",
       "\t2 & 9DB84934CF8F4F74 & classic\\_bike & 2022-06-22 17:21:27 & 2022-06-22 17:26:39 & South Waterfront Walkway - Sinatra Dr \\& 1 St & $\\dots$ \\\\\n",
       "\t3 & 1BA7193157399DB6 & classic\\_bike & 2022-06-26 20:25:49 & 2022-06-26 20:35:22 & South Waterfront Walkway - Sinatra Dr \\& 1 St & $\\dots$ \\\\\n",
       "\t4 & B48A9353BE8E24F6 & docked\\_bike & 2022-06-26 17:26:23 & 2022-06-26 17:40:48 & South Waterfront Walkway - Sinatra Dr \\& 1 St & $\\dots$ \\\\\n",
       "\t5 & 2B8A586D36B8EC65 & electric\\_bike & 2022-06-15 20:22:41 & 2022-06-15 20:43:12 & South Waterfront Walkway - Sinatra Dr \\& 1 St & $\\dots$ \\\\\n",
       "\t6 & 25AD34565A260732 & classic\\_bike & 2022-06-17 16:03:36 & 2022-06-17 16:33:48 & South Waterfront Walkway - Sinatra Dr \\& 1 St & $\\dots$ \\\\\n",
       "\t7 & 8A4181FCE9439036 & classic\\_bike & 2022-06-25 14:14:26 & 2022-06-25 14:19:40 & South Waterfront Walkway - Sinatra Dr \\& 1 St & $\\dots$ \\\\\n",
       "\t8 & 28C8501BCB596743 & electric\\_bike & 2022-06-04 08:57:04 & 2022-06-04 09:15:33 & Jersey \\& 6th St & $\\dots$ \\\\\n",
       "\t9 & D28575BBFF3A0B57 & classic\\_bike & 2022-06-17 06:11:05 & 2022-06-17 06:21:37 & South Waterfront Walkway - Sinatra Dr \\& 1 St & $\\dots$ \\\\\n",
       "\t10 & A914FEF9390C201C & electric\\_bike & 2022-06-02 18:15:17 & 2022-06-02 18:20:22 & South Waterfront Walkway - Sinatra Dr \\& 1 St & $\\dots$ \\\\\n",
       "\\end{tabular}\n"
      ],
      "text/plain": [
       "\u001b[1m10×13 DataFrame\u001b[0m\n",
       "\u001b[1m Row \u001b[0m│\u001b[1m ride_id          \u001b[0m\u001b[1m rideable_type \u001b[0m\u001b[1m started_at          \u001b[0m\u001b[1m ended_at         \u001b[0m ⋯\n",
       "     │\u001b[90m PosLenSt…?       \u001b[0m\u001b[90m PosLenSt…?    \u001b[0m\u001b[90m PosLenSt…?          \u001b[0m\u001b[90m PosLenSt…?       \u001b[0m ⋯\n",
       "─────┼──────────────────────────────────────────────────────────────────────────\n",
       "   1 │ AA66C02582622BFB  electric_bike  2022-06-05 08:07:14  2022-06-05 08:19: ⋯\n",
       "   2 │ 9DB84934CF8F4F74  classic_bike   2022-06-22 17:21:27  2022-06-22 17:26:\n",
       "   3 │ 1BA7193157399DB6  classic_bike   2022-06-26 20:25:49  2022-06-26 20:35:\n",
       "   4 │ B48A9353BE8E24F6  docked_bike    2022-06-26 17:26:23  2022-06-26 17:40:\n",
       "   5 │ 2B8A586D36B8EC65  electric_bike  2022-06-15 20:22:41  2022-06-15 20:43: ⋯\n",
       "   6 │ 25AD34565A260732  classic_bike   2022-06-17 16:03:36  2022-06-17 16:33:\n",
       "   7 │ 8A4181FCE9439036  classic_bike   2022-06-25 14:14:26  2022-06-25 14:19:\n",
       "   8 │ 28C8501BCB596743  electric_bike  2022-06-04 08:57:04  2022-06-04 09:15:\n",
       "   9 │ D28575BBFF3A0B57  classic_bike   2022-06-17 06:11:05  2022-06-17 06:21: ⋯\n",
       "  10 │ A914FEF9390C201C  electric_bike  2022-06-02 18:15:17  2022-06-02 18:20:\n",
       "\u001b[36m                                                              10 columns omitted\u001b[0m"
      ]
     },
     "metadata": {},
     "output_type": "display_data"
    }
   ],
   "source": [
    "last(df, 10)"
   ]
  },
  {
   "cell_type": "code",
   "execution_count": 4,
   "metadata": {},
   "outputs": [
    {
     "data": {
      "text/plain": [
       "\"jc_data.csv\""
      ]
     },
     "metadata": {},
     "output_type": "display_data"
    }
   ],
   "source": [
    "CSV.write(\"jc_data.csv\", df)"
   ]
  }
 ],
 "metadata": {
  "kernelspec": {
   "display_name": "Julia 1.9.1",
   "language": "julia",
   "name": "julia-1.9"
  },
  "language_info": {
   "file_extension": ".jl",
   "mimetype": "application/julia",
   "name": "julia",
   "version": "1.9.1"
  }
 },
 "nbformat": 4,
 "nbformat_minor": 2
}
